{
 "cells": [
  {
   "cell_type": "markdown",
   "metadata": {},
   "source": [
    "### Descripción  \n",
    "Esta práctica permitirá explorar cómo se pueden utilizar herramientas de visualización avanzadas en Python para interpretar y presentar datos de forma efectiva, proporcionando una oportunidad valiosa para mejorar las habilidades analíticas y técnicas.\n",
    "\n",
    "### Nivel 1  \n",
    "Realiza la conexión en Python con MySQL Workbench para cargar toda la información que tienes en las tablas.  \n",
    "Realizarás una visualización para cada ejercicio.   \n",
    "Comenta lo que llama la atención de graficar esta variable, justifica la elección del gráfico e interpreta los resultados en función de tus datos.  "
   ]
  },
  {
   "cell_type": "markdown",
   "metadata": {},
   "source": [
    "### Ejercicio 1    \n",
    "Una variable numérica.\n",
    "\n"
   ]
  },
  {
   "cell_type": "markdown",
   "metadata": {},
   "source": [
    "Comentarios:   \n",
    "Comenzaré instalando numpy, pandas, matplot, squarify, plotly y seaborn mediante la terminal. (Los iré utilizando en los diferentes ejercicios)\n",
    "Luego continuaré conectando Python con MySql Workbench para poder cargar todas las tablas con las que trabajaré.  \n",
    "Para ello primero debo instalar Mysql connector module."
   ]
  },
  {
   "cell_type": "code",
   "execution_count": 1,
   "metadata": {},
   "outputs": [
    {
     "name": "stdout",
     "output_type": "stream",
     "text": [
      "Requirement already satisfied: mysql-connector-python in c:\\users\\const\\appdata\\local\\programs\\python\\python312\\lib\\site-packages (8.4.0)\n",
      "Note: you may need to restart the kernel to use updated packages.\n"
     ]
    }
   ],
   "source": [
    "%pip install mysql-connector-python"
   ]
  },
  {
   "cell_type": "code",
   "execution_count": 2,
   "metadata": {},
   "outputs": [],
   "source": [
    "import mysql.connector\n",
    "\n",
    "connection = mysql.connector.connect(\n",
    "        host='localhost',\n",
    "        user='root',\n",
    "        password='Mysql-1904',\n",
    "        database='sprint4'\n",
    "    )\n",
    "   "
   ]
  },
  {
   "cell_type": "code",
   "execution_count": 3,
   "metadata": {},
   "outputs": [],
   "source": [
    "import pandas as pd\n",
    "import numpy as np\n",
    "import matplotlib.pyplot as plt\n",
    "import seaborn as sns\n",
    "import squarify \n",
    "import plotly.express as px"
   ]
  },
  {
   "cell_type": "code",
   "execution_count": 4,
   "metadata": {},
   "outputs": [
    {
     "name": "stdout",
     "output_type": "stream",
     "text": [
      "{'transactions':                                        id   card_id business_id  \\\n",
      "0    02C6201E-D90A-1859-B4EE-88D2986D3B02  CcU-2938      b-2362   \n",
      "1    0466A42E-47CF-8D24-FD01-C0B689713128  CcU-4219      b-2302   \n",
      "2    063FBA79-99EC-66FB-29F7-25726D1764A5  CcU-2987      b-2250   \n",
      "3    0668296C-CDB9-A883-76BC-2E4C44F8C8AE  CcU-3743      b-2618   \n",
      "4    06CD9AA5-9B42-D684-DDDD-A5E394FEBA99  CcU-2959      b-2346   \n",
      "..                                    ...       ...         ...   \n",
      "582  FD2E8957-414B-BEEC-E9AD-59AA7A8A6290  CcU-3232      b-2390   \n",
      "583  FD89D51B-AE8D-77DC-E450-B8083FBD3187  CcU-3960      b-2494   \n",
      "584  FD9CBCCD-8E1E-8DA1-4606-7E3A6F3A5A65  CcU-4331      b-2302   \n",
      "585  FE809ED4-2DB6-55AC-C915-929516E4646B  CcU-4849      b-2302   \n",
      "586  FE96CE47-BD59-381C-4E18-E3CA3D44E8FF  CcU-2945      b-2226   \n",
      "\n",
      "              timestamp  amount  declined    product_ids  user_id       lat  \\\n",
      "0   2021-08-28 23:42:24  466.92         0      71, 1, 19       92  81.91850   \n",
      "1   2021-07-26 07:29:18   49.53         0     47, 97, 43      170 -43.96950   \n",
      "2   2022-01-06 21:25:27   92.61         0  47, 67, 31, 5      275 -81.22270   \n",
      "3   2022-01-26 02:07:14  394.18         0     89, 83, 79      265 -34.35930   \n",
      "4   2021-10-26 23:00:01  279.93         0         43, 31       92  33.73810   \n",
      "..                  ...     ...       ...            ...      ...       ...   \n",
      "582 2022-03-13 00:27:34   78.29         0  83, 7, 17, 89      272 -24.31950   \n",
      "583 2022-03-16 02:35:05  200.72         0    3, 2, 73, 1      250   8.01217   \n",
      "584 2021-06-13 11:41:17   42.32         0             37      223 -77.86050   \n",
      "585 2021-11-09 21:35:40  219.83         0         23, 43      185 -46.07510   \n",
      "586 2021-06-15 00:26:29  480.13         1              3      275 -21.88050   \n",
      "\n",
      "     longitude  \n",
      "0     -12.5276  \n",
      "1    -117.5250  \n",
      "2    -129.0500  \n",
      "3    -100.5560  \n",
      "4     158.2980  \n",
      "..         ...  \n",
      "582   -11.4135  \n",
      "583   -64.6715  \n",
      "584  -172.3460  \n",
      "585  -142.2420  \n",
      "586  -112.5880  \n",
      "\n",
      "[587 rows x 10 columns], 'companies':    company_id                 company_name           phone  \\\n",
      "0      b-2222    Ac Fermentum Incorporated  06 85 56 52 33   \n",
      "1      b-2226     Magna A Neque Industries  04 14 44 64 62   \n",
      "2      b-2230                  Fusce Corp.  08 14 97 58 85   \n",
      "3      b-2234    Convallis In Incorporated  06 66 57 29 50   \n",
      "4      b-2238  Ante Iaculis Nec Foundation  08 23 04 99 53   \n",
      "..        ...                          ...             ...   \n",
      "95     b-2602                 Placerat LLP  05 43 67 24 41   \n",
      "96     b-2606                Sed Est Corp.  04 58 02 37 91   \n",
      "97     b-2610     Egestas Nunc Sed Limited  06 01 02 70 47   \n",
      "98     b-2614              Rutrum Non Inc.  02 66 31 61 09   \n",
      "99     b-2618                Non Institute  06 77 15 31 14   \n",
      "\n",
      "                               email         country  \\\n",
      "0   donec.porttitor.tellus@yahoo.net         Germany   \n",
      "1        risus.donec.nibh@icloud.org       Australia   \n",
      "2               risus@protonmail.edu   United States   \n",
      "3                 mauris.ut@aol.couk         Germany   \n",
      "4        sed.dictum.proin@outlook.ca     New Zealand   \n",
      "..                               ...             ...   \n",
      "95    tellus.suspendisse@hotmail.org     Netherlands   \n",
      "96       tempor.bibendum@google.couk          Canada   \n",
      "97                 vitae@hotmail.edu           Italy   \n",
      "98              neque@protonmail.net         Germany   \n",
      "99        amet.metus@protonmail.couk  United Kingdom   \n",
      "\n",
      "                            website  \n",
      "0        https://instagram.com/site  \n",
      "1      https://whatsapp.com/group/9  \n",
      "2    https://pinterest.com/sub/cars  \n",
      "3          https://cnn.com/user/110  \n",
      "4      https://netflix.com/settings  \n",
      "..                              ...  \n",
      "95              https://zoom.us/sub  \n",
      "96   https://instagram.com/sub/cars  \n",
      "97          https://walmart.com/one  \n",
      "98         https://netflix.com/site  \n",
      "99  https://guardian.co.uk/settings  \n",
      "\n",
      "[100 rows x 6 columns], 'credit_card':            id  user_id                          iban                 pan  \\\n",
      "0    CcU-2938      275    TR301950312213576817638661    5424465566813633   \n",
      "1    CcU-2945      274  DO26854763748537475216568689    5142423821948828   \n",
      "2    CcU-2952      273        BG45IVQL52710525608255    4556 453 55 5287   \n",
      "3    CcU-2959      272         CR7242477244335841535     372461377349375   \n",
      "4    CcU-2966      271        BG72LKTQ15627628377363  448566 886747 7265   \n",
      "..        ...      ...                           ...                 ...   \n",
      "270  CcU-4828        5        BG11ILMJ30149367569464       4485252735942   \n",
      "271  CcU-4835        4     PT34592171131763200132583   3723 677744 22550   \n",
      "272  CcU-4842        3      SA2156708581957118818229   3774 636724 83250   \n",
      "273  CcU-4849        2      SE2813123487163628531121    5223363813491514   \n",
      "274  CcU-4856        1    TR373872558313545667124286     349528235713651   \n",
      "\n",
      "      pin  cvv                                          track1  \\\n",
      "0    3257  984     %B8383712448554646^WovsxejDpwiev^86041142?7   \n",
      "1    9080  887   %B4621311609958661^UftuyfsSeimxn^0610628241?7   \n",
      "2    4598  438   %B2183285104307501^CddyytcUxwfdq^5907955430?9   \n",
      "3    3583  667     %B7281111956795320^XocddijBckecd^09016253?3   \n",
      "4    4900  130  %B4728932322756223^JhlgvsuFbmwgj^72022894943?7   \n",
      "..    ...  ...                                             ...   \n",
      "270  2789  942   %B7763464626517588^KmqoxvwFiovcv^5003339322?4   \n",
      "271  1149  680  %B6221188915952608^EnfmdemGugvnr^58053479562?5   \n",
      "272  4655  750  %B2216216733758821^CsszvisPjqcfh^95081856902?1   \n",
      "273  9992  779   %B8844154447682199^JunfxuiCzhsrj^3805344275?5   \n",
      "274  9086  974   %B4251431580521172^BjkklirXqdide^2001250289?6   \n",
      "\n",
      "                               track2 expiring_date  \n",
      "0     %B7653863056044187=8007163336?3      10/30/22  \n",
      "1     %B4149568437843501=5107140330?1      08/24/23  \n",
      "2    %B6778580257827162=69068597400?7      06/29/21  \n",
      "3     %B4246154489281853=2805223916?8      02/24/23  \n",
      "4     %B2318571115599881=8908215784?5      10/29/24  \n",
      "..                                ...           ...  \n",
      "270   %B4651147303850314=2105859161?2      09/04/22  \n",
      "271   %B8187762874317668=9107919781?6      01/08/24  \n",
      "272     %B2517312164209886=54047891?9      11/11/24  \n",
      "273   %B2623983651705584=0207551226?9      03/21/25  \n",
      "274   %B8171116145537298=7502852926?7      05/19/23  \n",
      "\n",
      "[275 rows x 9 columns], 'user':       id     name    surname           phone  \\\n",
      "0      1     Zeus     Gamble  1-282-581-0551   \n",
      "1      2  Garrett  Mcconnell  (718) 257-2412   \n",
      "2      3   Ciaran   Harrison  (522) 598-1365   \n",
      "3      4   Howard   Stafford  1-411-740-3269   \n",
      "4      5    Hayfa     Pierce  1-554-541-2077   \n",
      "..   ...      ...        ...             ...   \n",
      "270  271  Leandra     Cherry    089-285-7016   \n",
      "271  272   Hedwig    Gilbert    064-204-8788   \n",
      "272  273   Hilary   Ferguson    060-710-1604   \n",
      "273  274  Jameson       Hunt    024-732-2321   \n",
      "274  275   Kenyon    Hartman    082-871-7248   \n",
      "\n",
      "                                 email    birth_date        country  \\\n",
      "0         interdum.enim@protonmail.edu  Nov 17, 1985  United States   \n",
      "1    integer.vitae.nibh@protonmail.org  Aug 23, 1992  United States   \n",
      "2             interdum.feugiat@aol.org  Apr 29, 1998  United States   \n",
      "3            ornare.egestas@icloud.edu  Feb 18, 1989  United States   \n",
      "4       et.malesuada.fames@hotmail.org  Sep 26, 1998  United States   \n",
      "..                                 ...           ...            ...   \n",
      "270           lobortis.quis@hotmail.ca   Sep 2, 1991         Canada   \n",
      "271                sem.eget@icloud.edu  Apr 16, 1991         Canada   \n",
      "272    sapien.molestie.orci@google.edu   Nov 3, 1981         Canada   \n",
      "273           fringilla@protonmail.com  Jan 29, 1982         Canada   \n",
      "274    convallis.ante.lectus@yahoo.com   Aug 3, 1982         Canada   \n",
      "\n",
      "                         city postal_code                         address  \n",
      "0                      Lowell       73544           348-7818 Sagittis St.  \n",
      "1                  Des Moines       59464                     903 Sit Ave  \n",
      "2                    Columbus       56518             736-2063 Tellus St.  \n",
      "3                      Kailua       77417          Ap #545-2244 Erat. Rd.  \n",
      "4                       Sandy       31564           341-2821 Ultrices Av.  \n",
      "..                        ...         ...                             ...  \n",
      "270                    Gander     H6S 6M9       554-9293 Sollicitudin Av.  \n",
      "271               Tuktoyaktuk     Q4C 3G7  P.O. Box 496, 5145 Sapien Road  \n",
      "272               Pangnirtung     12T 5G4           Ap #736-4628 Cras St.  \n",
      "273  Township of Minden Hills     B6V 6N4           224-4927 Praesent Ave  \n",
      "274                  Richmond     R8H 2K2              8564 Facilisi. St.  \n",
      "\n",
      "[275 rows x 10 columns], 'estado_tarj':       card_id estado_tarjeta\n",
      "0    CcU-2938         ACTIVA\n",
      "1    CcU-2945         ACTIVA\n",
      "2    CcU-2952         ACTIVA\n",
      "3    CcU-2959         ACTIVA\n",
      "4    CcU-2966         ACTIVA\n",
      "..        ...            ...\n",
      "270  CcU-4828         ACTIVA\n",
      "271  CcU-4835         ACTIVA\n",
      "272  CcU-4842         ACTIVA\n",
      "273  CcU-4849         ACTIVA\n",
      "274  CcU-4856         ACTIVA\n",
      "\n",
      "[275 rows x 2 columns], 'products':      id            product_name   price   colour  weight warehouse_id\n",
      "0     1        Direwolf Stannis  161.11  #7c7c7c     1.0         WH-4\n",
      "1     2             Tarly Stark    9.24  #919191     2.0         WH-3\n",
      "2     3  duel tourney Lannister  171.13  #d8d8d8     1.5         WH-2\n",
      "3     4       warden south duel   71.89  #111111     3.0         WH-1\n",
      "4     5          skywalker ewok  171.22  #dbdbdb     3.2         WH-0\n",
      "..  ...                     ...     ...      ...     ...          ...\n",
      "95   96              dooku solo   20.92  #282828     2.1       WH--91\n",
      "96   97         jinn Winterfell   65.25  #bababa     1.0       WH--92\n",
      "97   98   Direwolf Littlefinger   38.33  #bababa     2.0       WH--93\n",
      "98   99                the duel  151.78  #212121     1.5       WH--94\n",
      "99  100              south duel   40.43  #6d6d6d     3.0       WH--95\n",
      "\n",
      "[100 rows x 6 columns]}\n"
     ]
    },
    {
     "name": "stderr",
     "output_type": "stream",
     "text": [
      "C:\\Users\\const\\AppData\\Local\\Temp\\ipykernel_11840\\364832217.py:6: UserWarning: pandas only supports SQLAlchemy connectable (engine/connection) or database string URI or sqlite3 DBAPI2 connection. Other DBAPI2 objects are not tested. Please consider using SQLAlchemy.\n",
      "  df[tabla] = pd.read_sql(query, connection)\n"
     ]
    }
   ],
   "source": [
    "tablas_db = ['transactions','companies','credit_card','user','estado_tarj', 'products']\n",
    "df = {}\n",
    "\n",
    "for tabla in tablas_db:\n",
    "    query = f'SELECT * FROM {tabla}'\n",
    "    df[tabla] = pd.read_sql(query, connection)\n",
    "\n",
    "connection.close()\n",
    "\n",
    "\n",
    "print(df)"
   ]
  },
  {
   "cell_type": "markdown",
   "metadata": {},
   "source": [
    "\n",
    "Para resolver este ejercicio he elegido la variable amount (numérica) de la tabla transactions porque puede dar información relevante acerca de cómo es el comportamiento financiero. He elegido un histograma para representarla.\n",
    "El histograma mostrará la distribución de los montos de las transacciones, lo que puede ayudar a identificar tendencias como la frecuencia de diferentes rangos de montos."
   ]
  },
  {
   "cell_type": "code",
   "execution_count": 5,
   "metadata": {},
   "outputs": [
    {
     "data": {
      "image/png": "[encoded data removed]",
      "text/plain": [
       "<Figure size 1000x400 with 1 Axes>"
      ]
     },
     "metadata": {},
     "output_type": "display_data"
    }
   ],
   "source": [
    "plt.figure(figsize=(10, 4))\n",
    "plt.hist(df['transactions']['amount'], bins=20, edgecolor='k', color= \"magenta\", alpha=0.9)\n",
    "plt.title('Distribución de Montos de Transacciones')\n",
    "plt.xlabel('Monto')\n",
    "plt.ylabel('Frecuencia')\n",
    "plt.grid(True)\n",
    "plt.grid(linestyle = \"dashed\", color = \"grey\")\n",
    "plt.show()"
   ]
  },
  {
   "cell_type": "markdown",
   "metadata": {},
   "source": [
    "La frecuencia de los montos de transacciones parece estar relativamente uniforme a lo largo de las diferentes categorías de monto. No hay picos extremadamente altos o bajos, lo que sugiere que los montos de las transacciones están distribuidos de manera más o menos equitativa.  \n",
    "En caso de hacer una revisión más puntual, podemos ver que las que más frecuentemente se dan son las transacciones de menor monto. "
   ]
  },
  {
   "cell_type": "markdown",
   "metadata": {},
   "source": [
    "### Exercici 2: \n",
    "Dues variables numèriques."
   ]
  },
  {
   "cell_type": "markdown",
   "metadata": {},
   "source": [
    "En este caso he elegido las variables amount y timestamp de la tabla transactions. Analizar esta relación nos puede decir si hay patrones temporales en el comportamiento de las transacciones. Para ello he elegido un gráfico de dispersión (sactter plot).  \n",
    "Este gráfico permitirá observar la relación entre el monto de las transacciones y el tiempo, identificando posibles patrones o tendencias a lo largo del tiempo.\n"
   ]
  },
  {
   "cell_type": "markdown",
   "metadata": {},
   "source": [
    "Comenzaré cambiando timestamp a datatime para poder ver la información correctamente."
   ]
  },
  {
   "cell_type": "code",
   "execution_count": 6,
   "metadata": {},
   "outputs": [
    {
     "data": {
      "image/png": "[encoded data removed]",
      "text/plain": [
       "<Figure size 1000x400 with 1 Axes>"
      ]
     },
     "metadata": {},
     "output_type": "display_data"
    }
   ],
   "source": [
    "df['transactions']['timestamp'] = pd.to_datetime(df['transactions']['timestamp'])\n",
    "\n",
    "plt.figure(figsize=(10, 4))\n",
    "plt.scatter(df['transactions']['timestamp'], df['transactions']['amount'], alpha=0.9)\n",
    "plt.title('Monto de Transacciones a lo largo del Tiempo')\n",
    "plt.xlabel('Tiempo')\n",
    "plt.ylabel('Monto')\n",
    "plt.grid(True)\n",
    "plt.grid(linestyle = \"dashed\", color = \"grey\")\n",
    "plt.show()"
   ]
  },
  {
   "cell_type": "markdown",
   "metadata": {},
   "source": [
    "No veo un patrón claro de tendencia a lo largo del tiempo. En este caso se han realizado transacciones por todos los montos durante todo el año. No se da el caso de encontrarse todas cercanas a una fecha como podría tratarse del día de la madre / padre / navidades."
   ]
  },
  {
   "cell_type": "markdown",
   "metadata": {},
   "source": [
    "### Exercici 3: \n",
    "Una variable categòrica."
   ]
  },
  {
   "cell_type": "markdown",
   "metadata": {},
   "source": [
    "En este ejercicio he tomado la variable country de la tabla user. Creo que es un dato relevante para saber cúal es el mayor mercado. Un gráfico treemap será una buena representación para ver de forma clara qué peso tienen los diferentes países en la distribución."
   ]
  },
  {
   "cell_type": "code",
   "execution_count": 11,
   "metadata": {},
   "outputs": [
    {
     "data": {
      "image/png": "[encoded data removed]",
      "text/plain": [
       "<Figure size 640x480 with 1 Axes>"
      ]
     },
     "metadata": {},
     "output_type": "display_data"
    }
   ],
   "source": [
    "country_counts = df['user']['country'].value_counts()\n",
    "colors = ['#ff9999','#c4e17f','#66b3ff']\n",
    "squarify.plot(sizes=country_counts.values, label=country_counts.index, alpha=0.8, color=colors[:len(country_counts)])\n",
    "plt.title('Distribución de usuarios')\n",
    "plt.axis('off')\n",
    "plt.show()"
   ]
  },
  {
   "cell_type": "markdown",
   "metadata": {},
   "source": [
    "Podemos ver que más de la mitad de los usuarios se encuentran en Estados Unidos, que el segundo mercado más fuerte es Canadá y que el Reino Unido participa con la menor proporción de los tres. En base a esto se puede tomar decisiones de márketing por ejemplo. Se pueden analizar las características de los usuarios del Reino Unido y aplicar estrategias para ampliar el mercado, o se puede decidir por ejemplo que se prioriza retener a los ususarios de Estados Unidos y en consecuencia se pueden aplicar políticas que apunten a ello (promociones, beneficios, etc)."
   ]
  },
  {
   "cell_type": "markdown",
   "metadata": {},
   "source": [
    "### Exercici 4: \n",
    "Una variable categòrica i una numèrica."
   ]
  },
  {
   "cell_type": "markdown",
   "metadata": {},
   "source": [
    "En este caso he elegido las variables amount de la trabla transactions y country de la tabla companies con la finalidad de evaluar cuáles son los países que tienen mayor número de ventas."
   ]
  },
  {
   "cell_type": "code",
   "execution_count": 12,
   "metadata": {},
   "outputs": [
    {
     "data": {
      "image/png": "[encoded data removed]",
      "text/plain": [
       "<Figure size 1200x600 with 1 Axes>"
      ]
     },
     "metadata": {},
     "output_type": "display_data"
    }
   ],
   "source": [
    "plt.figure(figsize=(12,6))\n",
    "sns.set_theme(style=\"darkgrid\")\n",
    "df_merged = pd.merge(df[\"companies\"], df[\"transactions\"], left_on='company_id', right_on='business_id')\n",
    "violin = sns.violinplot(x=df_merged[\"country\"], y=df_merged[\"amount\"], linewidth=0.5, palette='flare', hue=df_merged[\"country\"], legend=False)\n",
    "plt.title('Cantidad de ventas por países')\n",
    "plt.xticks(rotation=45)\n",
    "plt.show()\n"
   ]
  },
  {
   "cell_type": "markdown",
   "metadata": {},
   "source": [
    "Observando este gráfico podemos ver que en Estados Unidos y Netherlands se encuentran nuestros principales vendedores."
   ]
  },
  {
   "cell_type": "markdown",
   "metadata": {},
   "source": [
    "\n",
    "### Exercici 5: \n",
    "Dues variables categòriques."
   ]
  },
  {
   "cell_type": "markdown",
   "metadata": {},
   "source": [
    "En esta oportunidad he preferido volver a considerar la variable country de la tabla user y comprobar cómo se encuentran distribuidos los usuarios entre las diferentes ciudades. Puede que en Estados Unidos (que vimos en el ejercicio anterior era donde se encontraba la mayor cantidad de usuarios) se encuentren todos en unas pocas ciudades, así como también puede ocurrir que en el Reino Unido (que es el país con menor cantidad de usuarios) estén atomizados por todo el país. Los productos serían más conocidos en ese país entonces las estrategias pueden apuntar a consolidar las ventas haciendo multiplicar usuarios. Veremos qué arroja el gráfico.   \n",
    "Por ese mismo motivo he seleccionado el mismo gráfico que en el ejercio 3. Para poder analizar lo que ocurre.  \n",
    "En este caso usaré plotly para poder verlo mejor."
   ]
  },
  {
   "cell_type": "code",
   "execution_count": 9,
   "metadata": {},
   "outputs": [
    {
     "data": {
      "application/vnd.plotly.v1+json": {
       "config": {
        "plotlyServerURL": "https://plot.ly"
       },
       "data": [
        {
         "branchvalues": "total",
         "domain": {
          "x": [
           0,
           1
          ],
          "y": [
           0,
           1
          ]
         },
         "hovertemplate": "labels=%{label}<br>count=%{value}<br>parent=%{parent}<br>id=%{id}<extra></extra>",
         "ids": [
          "Canada/Abbotsford",
          "United States/Allentown",
          "United Kingdom/Alva",
          "United States/Anchorage",
          "United States/Annapolis",
          "Canada/Annapolis Royal",
          "Canada/Arviat",
          "United States/Auburn",
          "United States/Augusta",
          "United States/Aurora",
          "Canada/Baddeck",
          "United Kingdom/Banchory",
          "Canada/Banff",
          "United Kingdom/Basingstoke",
          "United Kingdom/Bathgate",
          "Canada/Bathurst",
          "Canada/Beaconsfield",
          "Canada/Beauport",
          "Canada/Beausejour",
          "United Kingdom/Biggleswade",
          "United States/Biloxi",
          "United Kingdom/Blaenau Ffestiniog",
          "United Kingdom/Blairgowrie",
          "United States/Bloomington",
          "United States/Boise",
          "United Kingdom/Bolton",
          "United Kingdom/Bonnyrigg",
          "United States/Bozeman",
          "Canada/Brandon",
          "United States/Bridgeport",
          "United Kingdom/Brodick",
          "United Kingdom/Brora",
          "United Kingdom/Buckie",
          "United States/Burlington",
          "Canada/Caledon",
          "Canada/Cambridge Bay",
          "Canada/Cape Breton Island",
          "United Kingdom/Carterton",
          "United States/Casper",
          "Canada/Champlain",
          "Canada/Charlottetown",
          "United States/Chicago",
          "United States/Clarksville",
          "United States/Cleveland",
          "Canada/Cochrane",
          "United States/Colchester",
          "United Kingdom/Coldstream",
          "United States/College",
          "United States/Columbia",
          "United States/Columbus",
          "Canada/Colwood",
          "Canada/Cornwall",
          "Canada/Cumberland",
          "United States/Dallas",
          "United States/Davenport",
          "United States/Des Moines",
          "Canada/Dieppe",
          "United Kingdom/Dorchester",
          "United Kingdom/Dover",
          "United States/Dover",
          "United States/Duluth",
          "United Kingdom/Dunstable",
          "United Kingdom/Elgin",
          "United States/Erie",
          "United States/Essex",
          "United States/Eugene",
          "United States/Fairbanks",
          "United States/Fayetteville",
          "Canada/Flin Flon",
          "Canada/Fort Good Hope",
          "Canada/Fort Smith",
          "United States/Fort Wayne",
          "United Kingdom/Fort William",
          "United States/Fort Worth",
          "United States/Frankfort",
          "Canada/Fraser-Fort George",
          "Canada/Fredericton",
          "Canada/Gander",
          "United States/Gary",
          "United States/Glendale",
          "United States/Grand Rapids",
          "United States/Great Falls",
          "United States/Green Bay",
          "United States/Gulfport",
          "Canada/Guysborough",
          "United Kingdom/Hatfield",
          "United States/Hattiesburg",
          "United States/Hillsboro",
          "United States/Hilo",
          "United States/Honolulu",
          "Canada/Houston",
          "United States/Huntsville",
          "United States/Indianapolis",
          "United States/Iowa City",
          "United States/Jackson",
          "United States/Jacksonville",
          "United States/Jefferson City",
          "United States/Joliet",
          "United States/Jonesboro",
          "United States/Juneau",
          "United States/Kailua",
          "Canada/Kakisa",
          "United States/Kaneohe",
          "United States/Kansas City",
          "United States/Kearney",
          "United Kingdom/Keith",
          "United Kingdom/Kettering",
          "United Kingdom/Kingussie",
          "United Kingdom/Kircudbright",
          "United Kingdom/Leominster",
          "United States/Lewiston",
          "United States/Lexington",
          "United States/Lincoln",
          "Canada/Lions Bay",
          "United States/Little Rock",
          "United Kingdom/Lochgilphead",
          "United States/Los Angeles",
          "Canada/Lourdes",
          "United States/Lowell",
          "United States/Madison",
          "Canada/Maple Creek",
          "United Kingdom/March",
          "Canada/Marystown",
          "Canada/McCallum",
          "United States/Memphis",
          "United States/Mesa",
          "United Kingdom/Millport",
          "Canada/Minitonas",
          "Canada/Mission",
          "Canada/Montague",
          "United States/Montpelier",
          "Canada/Municipal District",
          "Canada/Murdochville",
          "United States/Naperville",
          "United States/Nashville",
          "Canada/Neuville",
          "United States/New Haven",
          "United States/New Orleans",
          "United States/Newark",
          "United Kingdom/Newbury",
          "United States/Newport News",
          "United Kingdom/Newton Abbot",
          "United Kingdom/Newtown",
          "United States/Norfolk",
          "United States/Norman",
          "United Kingdom/North Berwick",
          "Canada/North Vancouver",
          "United Kingdom/Northampton",
          "Canada/Oliver",
          "United States/Orlando",
          "Canada/Ottawa",
          "United States/Owensboro",
          "Canada/Oxford County",
          "Canada/Pangnirtung",
          "United States/Paradise",
          "Canada/Paulatuk",
          "Canada/Penticton",
          "United Kingdom/Peterhead",
          "United Kingdom/Pitlochry",
          "United States/Pittsburgh",
          "Canada/Ponoka",
          "United States/Portland",
          "United Kingdom/Presteigne",
          "Canada/QuÃ©bec City",
          "United States/Racine",
          "Canada/Rae-Edzo",
          "United States/Reading",
          "Canada/Richmond",
          "United States/Richmond",
          "Canada/Rigolet",
          "United States/Rochester",
          "United States/Rockville",
          "United States/Sacramento",
          "United States/Saint Louis",
          "United States/Salem",
          "United States/Salt Lake City",
          "United States/San Jose",
          "United States/Sandy",
          "Canada/Saskatoon",
          "United States/Savannah",
          "United Kingdom/Selkirk",
          "United Kingdom/Shaftesbury",
          "Canada/Shawinigan",
          "United States/Shreveport",
          "United States/South Portland",
          "United States/Spokane",
          "United States/Springfield",
          "United Kingdom/Sromness",
          "United Kingdom/St. Andrews",
          "United Kingdom/Stockport",
          "United Kingdom/Stoke-on-Trent",
          "Canada/Swan Hills",
          "United Kingdom/Swindon",
          "United States/Tacoma",
          "United States/Topeka",
          "Canada/Town of Yarmouth",
          "Canada/Township of Minden Hills",
          "United Kingdom/Tregaron",
          "United States/Tucson",
          "Canada/Tuktoyaktuk",
          "United Kingdom/Tullibody",
          "United States/Tuscaloosa",
          "Canada/Ucluelet",
          "Canada/Vancouver",
          "United States/Vancouver",
          "United States/Warren",
          "United States/Waterbury",
          "Canada/Watson Lake",
          "Canada/West Vancouver",
          "United Kingdom/Weston-super-Mare",
          "Canada/Weyburn",
          "United Kingdom/Whitehaven",
          "Canada/Whitehorse",
          "United States/Wichita",
          "United States/Wilmington",
          "Canada",
          "United Kingdom",
          "United States"
         ],
         "labels": [
          "Abbotsford",
          "Allentown",
          "Alva",
          "Anchorage",
          "Annapolis",
          "Annapolis Royal",
          "Arviat",
          "Auburn",
          "Augusta",
          "Aurora",
          "Baddeck",
          "Banchory",
          "Banff",
          "Basingstoke",
          "Bathgate",
          "Bathurst",
          "Beaconsfield",
          "Beauport",
          "Beausejour",
          "Biggleswade",
          "Biloxi",
          "Blaenau Ffestiniog",
          "Blairgowrie",
          "Bloomington",
          "Boise",
          "Bolton",
          "Bonnyrigg",
          "Bozeman",
          "Brandon",
          "Bridgeport",
          "Brodick",
          "Brora",
          "Buckie",
          "Burlington",
          "Caledon",
          "Cambridge Bay",
          "Cape Breton Island",
          "Carterton",
          "Casper",
          "Champlain",
          "Charlottetown",
          "Chicago",
          "Clarksville",
          "Cleveland",
          "Cochrane",
          "Colchester",
          "Coldstream",
          "College",
          "Columbia",
          "Columbus",
          "Colwood",
          "Cornwall",
          "Cumberland",
          "Dallas",
          "Davenport",
          "Des Moines",
          "Dieppe",
          "Dorchester",
          "Dover",
          "Dover",
          "Duluth",
          "Dunstable",
          "Elgin",
          "Erie",
          "Essex",
          "Eugene",
          "Fairbanks",
          "Fayetteville",
          "Flin Flon",
          "Fort Good Hope",
          "Fort Smith",
          "Fort Wayne",
          "Fort William",
          "Fort Worth",
          "Frankfort",
          "Fraser-Fort George",
          "Fredericton",
          "Gander",
          "Gary",
          "Glendale",
          "Grand Rapids",
          "Great Falls",
          "Green Bay",
          "Gulfport",
          "Guysborough",
          "Hatfield",
          "Hattiesburg",
          "Hillsboro",
          "Hilo",
          "Honolulu",
          "Houston",
          "Huntsville",
          "Indianapolis",
          "Iowa City",
          "Jackson",
          "Jacksonville",
          "Jefferson City",
          "Joliet",
          "Jonesboro",
          "Juneau",
          "Kailua",
          "Kakisa",
          "Kaneohe",
          "Kansas City",
          "Kearney",
          "Keith",
          "Kettering",
          "Kingussie",
          "Kircudbright",
          "Leominster",
          "Lewiston",
          "Lexington",
          "Lincoln",
          "Lions Bay",
          "Little Rock",
          "Lochgilphead",
          "Los Angeles",
          "Lourdes",
          "Lowell",
          "Madison",
          "Maple Creek",
          "March",
          "Marystown",
          "McCallum",
          "Memphis",
          "Mesa",
          "Millport",
          "Minitonas",
          "Mission",
          "Montague",
          "Montpelier",
          "Municipal District",
          "Murdochville",
          "Naperville",
          "Nashville",
          "Neuville",
          "New Haven",
          "New Orleans",
          "Newark",
          "Newbury",
          "Newport News",
          "Newton Abbot",
          "Newtown",
          "Norfolk",
          "Norman",
          "North Berwick",
          "North Vancouver",
          "Northampton",
          "Oliver",
          "Orlando",
          "Ottawa",
          "Owensboro",
          "Oxford County",
          "Pangnirtung",
          "Paradise",
          "Paulatuk",
          "Penticton",
          "Peterhead",
          "Pitlochry",
          "Pittsburgh",
          "Ponoka",
          "Portland",
          "Presteigne",
          "QuÃ©bec City",
          "Racine",
          "Rae-Edzo",
          "Reading",
          "Richmond",
          "Richmond",
          "Rigolet",
          "Rochester",
          "Rockville",
          "Sacramento",
          "Saint Louis",
          "Salem",
          "Salt Lake City",
          "San Jose",
          "Sandy",
          "Saskatoon",
          "Savannah",
          "Selkirk",
          "Shaftesbury",
          "Shawinigan",
          "Shreveport",
          "South Portland",
          "Spokane",
          "Springfield",
          "Sromness",
          "St. Andrews",
          "Stockport",
          "Stoke-on-Trent",
          "Swan Hills",
          "Swindon",
          "Tacoma",
          "Topeka",
          "Town of Yarmouth",
          "Township of Minden Hills",
          "Tregaron",
          "Tucson",
          "Tuktoyaktuk",
          "Tullibody",
          "Tuscaloosa",
          "Ucluelet",
          "Vancouver",
          "Vancouver",
          "Warren",
          "Waterbury",
          "Watson Lake",
          "West Vancouver",
          "Weston-super-Mare",
          "Weyburn",
          "Whitehaven",
          "Whitehorse",
          "Wichita",
          "Wilmington",
          "Canada",
          "United Kingdom",
          "United States"
         ],
         "name": "",
         "parents": [
          "Canada",
          "United States",
          "United Kingdom",
          "United States",
          "United States",
          "Canada",
          "Canada",
          "United States",
          "United States",
          "United States",
          "Canada",
          "United Kingdom",
          "Canada",
          "United Kingdom",
          "United Kingdom",
          "Canada",
          "Canada",
          "Canada",
          "Canada",
          "United Kingdom",
          "United States",
          "United Kingdom",
          "United Kingdom",
          "United States",
          "United States",
          "United Kingdom",
          "United Kingdom",
          "United States",
          "Canada",
          "United States",
          "United Kingdom",
          "United Kingdom",
          "United Kingdom",
          "United States",
          "Canada",
          "Canada",
          "Canada",
          "United Kingdom",
          "United States",
          "Canada",
          "Canada",
          "United States",
          "United States",
          "United States",
          "Canada",
          "United States",
          "United Kingdom",
          "United States",
          "United States",
          "United States",
          "Canada",
          "Canada",
          "Canada",
          "United States",
          "United States",
          "United States",
          "Canada",
          "United Kingdom",
          "United Kingdom",
          "United States",
          "United States",
          "United Kingdom",
          "United Kingdom",
          "United States",
          "United States",
          "United States",
          "United States",
          "United States",
          "Canada",
          "Canada",
          "Canada",
          "United States",
          "United Kingdom",
          "United States",
          "United States",
          "Canada",
          "Canada",
          "Canada",
          "United States",
          "United States",
          "United States",
          "United States",
          "United States",
          "United States",
          "Canada",
          "United Kingdom",
          "United States",
          "United States",
          "United States",
          "United States",
          "Canada",
          "United States",
          "United States",
          "United States",
          "United States",
          "United States",
          "United States",
          "United States",
          "United States",
          "United States",
          "United States",
          "Canada",
          "United States",
          "United States",
          "United States",
          "United Kingdom",
          "United Kingdom",
          "United Kingdom",
          "United Kingdom",
          "United Kingdom",
          "United States",
          "United States",
          "United States",
          "Canada",
          "United States",
          "United Kingdom",
          "United States",
          "Canada",
          "United States",
          "United States",
          "Canada",
          "United Kingdom",
          "Canada",
          "Canada",
          "United States",
          "United States",
          "United Kingdom",
          "Canada",
          "Canada",
          "Canada",
          "United States",
          "Canada",
          "Canada",
          "United States",
          "United States",
          "Canada",
          "United States",
          "United States",
          "United States",
          "United Kingdom",
          "United States",
          "United Kingdom",
          "United Kingdom",
          "United States",
          "United States",
          "United Kingdom",
          "Canada",
          "United Kingdom",
          "Canada",
          "United States",
          "Canada",
          "United States",
          "Canada",
          "Canada",
          "United States",
          "Canada",
          "Canada",
          "United Kingdom",
          "United Kingdom",
          "United States",
          "Canada",
          "United States",
          "United Kingdom",
          "Canada",
          "United States",
          "Canada",
          "United States",
          "Canada",
          "United States",
          "Canada",
          "United States",
          "United States",
          "United States",
          "United States",
          "United States",
          "United States",
          "United States",
          "United States",
          "Canada",
          "United States",
          "United Kingdom",
          "United Kingdom",
          "Canada",
          "United States",
          "United States",
          "United States",
          "United States",
          "United Kingdom",
          "United Kingdom",
          "United Kingdom",
          "United Kingdom",
          "Canada",
          "United Kingdom",
          "United States",
          "United States",
          "Canada",
          "Canada",
          "United Kingdom",
          "United States",
          "Canada",
          "United Kingdom",
          "United States",
          "Canada",
          "Canada",
          "United States",
          "United States",
          "United States",
          "Canada",
          "Canada",
          "United Kingdom",
          "Canada",
          "United Kingdom",
          "Canada",
          "United States",
          "United States",
          "",
          "",
          ""
         ],
         "type": "treemap",
         "values": [
          1,
          1,
          1,
          1,
          1,
          1,
          1,
          1,
          1,
          4,
          2,
          1,
          1,
          1,
          1,
          1,
          1,
          1,
          1,
          1,
          1,
          1,
          1,
          1,
          1,
          1,
          1,
          1,
          1,
          1,
          1,
          1,
          1,
          1,
          1,
          2,
          1,
          1,
          1,
          1,
          1,
          2,
          1,
          1,
          1,
          2,
          1,
          2,
          1,
          6,
          1,
          1,
          1,
          1,
          2,
          1,
          3,
          1,
          1,
          2,
          1,
          1,
          1,
          1,
          1,
          1,
          1,
          1,
          1,
          1,
          1,
          1,
          1,
          1,
          1,
          1,
          1,
          2,
          1,
          1,
          1,
          1,
          1,
          1,
          1,
          1,
          1,
          2,
          1,
          1,
          1,
          1,
          2,
          1,
          1,
          1,
          1,
          1,
          1,
          1,
          1,
          1,
          1,
          1,
          3,
          1,
          1,
          1,
          1,
          1,
          4,
          1,
          2,
          1,
          1,
          2,
          1,
          1,
          1,
          1,
          1,
          3,
          1,
          1,
          1,
          1,
          1,
          1,
          1,
          1,
          1,
          2,
          1,
          2,
          1,
          1,
          1,
          1,
          3,
          1,
          1,
          1,
          1,
          1,
          2,
          1,
          1,
          1,
          1,
          1,
          1,
          2,
          1,
          2,
          1,
          1,
          1,
          1,
          1,
          2,
          1,
          1,
          1,
          1,
          1,
          1,
          3,
          1,
          2,
          1,
          1,
          1,
          1,
          1,
          2,
          1,
          5,
          2,
          1,
          1,
          1,
          1,
          1,
          1,
          2,
          1,
          1,
          1,
          1,
          1,
          1,
          1,
          1,
          2,
          1,
          2,
          1,
          1,
          1,
          1,
          1,
          3,
          2,
          1,
          1,
          3,
          3,
          3,
          1,
          1,
          1,
          1,
          1,
          3,
          1,
          75,
          50,
          150
         ]
        }
       ],
       "layout": {
        "legend": {
         "tracegroupgap": 0
        },
        "margin": {
         "t": 60
        },
        "template": {
         "data": {
          "bar": [
           {
            "error_x": {
             "color": "#2a3f5f"
            },
            "error_y": {
             "color": "#2a3f5f"
            },
            "marker": {
             "line": {
              "color": "#E5ECF6",
              "width": 0.5
             },
             "pattern": {
              "fillmode": "overlay",
              "size": 10,
              "solidity": 0.2
             }
            },
            "type": "bar"
           }
          ],
          "barpolar": [
           {
            "marker": {
             "line": {
              "color": "#E5ECF6",
              "width": 0.5
             },
             "pattern": {
              "fillmode": "overlay",
              "size": 10,
              "solidity": 0.2
             }
            },
            "type": "barpolar"
           }
          ],
          "carpet": [
           {
            "aaxis": {
             "endlinecolor": "#2a3f5f",
             "gridcolor": "white",
             "linecolor": "white",
             "minorgridcolor": "white",
             "startlinecolor": "#2a3f5f"
            },
            "baxis": {
             "endlinecolor": "#2a3f5f",
             "gridcolor": "white",
             "linecolor": "white",
             "minorgridcolor": "white",
             "startlinecolor": "#2a3f5f"
            },
            "type": "carpet"
           }
          ],
          "choropleth": [
           {
            "colorbar": {
             "outlinewidth": 0,
             "ticks": ""
            },
            "type": "choropleth"
           }
          ],
          "contour": [
           {
            "colorbar": {
             "outlinewidth": 0,
             "ticks": ""
            },
            "colorscale": [
             [
              0,
              "#0d0887"
             ],
             [
              0.1111111111111111,
              "#46039f"
             ],
             [
              0.2222222222222222,
              "#7201a8"
             ],
             [
              0.3333333333333333,
              "#9c179e"
             ],
             [
              0.4444444444444444,
              "#bd3786"
             ],
             [
              0.5555555555555556,
              "#d8576b"
             ],
             [
              0.6666666666666666,
              "#ed7953"
             ],
             [
              0.7777777777777778,
              "#fb9f3a"
             ],
             [
              0.8888888888888888,
              "#fdca26"
             ],
             [
              1,
              "#f0f921"
             ]
            ],
            "type": "contour"
           }
          ],
          "contourcarpet": [
           {
            "colorbar": {
             "outlinewidth": 0,
             "ticks": ""
            },
            "type": "contourcarpet"
           }
          ],
          "heatmap": [
           {
            "colorbar": {
             "outlinewidth": 0,
             "ticks": ""
            },
            "colorscale": [
             [
              0,
              "#0d0887"
             ],
             [
              0.1111111111111111,
              "#46039f"
             ],
             [
              0.2222222222222222,
              "#7201a8"
             ],
             [
              0.3333333333333333,
              "#9c179e"
             ],
             [
              0.4444444444444444,
              "#bd3786"
             ],
             [
              0.5555555555555556,
              "#d8576b"
             ],
             [
              0.6666666666666666,
              "#ed7953"
             ],
             [
              0.7777777777777778,
              "#fb9f3a"
             ],
             [
              0.8888888888888888,
              "#fdca26"
             ],
             [
              1,
              "#f0f921"
             ]
            ],
            "type": "heatmap"
           }
          ],
          "heatmapgl": [
           {
            "colorbar": {
             "outlinewidth": 0,
             "ticks": ""
            },
            "colorscale": [
             [
              0,
              "#0d0887"
             ],
             [
              0.1111111111111111,
              "#46039f"
             ],
             [
              0.2222222222222222,
              "#7201a8"
             ],
             [
              0.3333333333333333,
              "#9c179e"
             ],
             [
              0.4444444444444444,
              "#bd3786"
             ],
             [
              0.5555555555555556,
              "#d8576b"
             ],
             [
              0.6666666666666666,
              "#ed7953"
             ],
             [
              0.7777777777777778,
              "#fb9f3a"
             ],
             [
              0.8888888888888888,
              "#fdca26"
             ],
             [
              1,
              "#f0f921"
             ]
            ],
            "type": "heatmapgl"
           }
          ],
          "histogram": [
           {
            "marker": {
             "pattern": {
              "fillmode": "overlay",
              "size": 10,
              "solidity": 0.2
             }
            },
            "type": "histogram"
           }
          ],
          "histogram2d": [
           {
            "colorbar": {
             "outlinewidth": 0,
             "ticks": ""
            },
            "colorscale": [
             [
              0,
              "#0d0887"
             ],
             [
              0.1111111111111111,
              "#46039f"
             ],
             [
              0.2222222222222222,
              "#7201a8"
             ],
             [
              0.3333333333333333,
              "#9c179e"
             ],
             [
              0.4444444444444444,
              "#bd3786"
             ],
             [
              0.5555555555555556,
              "#d8576b"
             ],
             [
              0.6666666666666666,
              "#ed7953"
             ],
             [
              0.7777777777777778,
              "#fb9f3a"
             ],
             [
              0.8888888888888888,
              "#fdca26"
             ],
             [
              1,
              "#f0f921"
             ]
            ],
            "type": "histogram2d"
           }
          ],
          "histogram2dcontour": [
           {
            "colorbar": {
             "outlinewidth": 0,
             "ticks": ""
            },
            "colorscale": [
             [
              0,
              "#0d0887"
             ],
             [
              0.1111111111111111,
              "#46039f"
             ],
             [
              0.2222222222222222,
              "#7201a8"
             ],
             [
              0.3333333333333333,
              "#9c179e"
             ],
             [
              0.4444444444444444,
              "#bd3786"
             ],
             [
              0.5555555555555556,
              "#d8576b"
             ],
             [
              0.6666666666666666,
              "#ed7953"
             ],
             [
              0.7777777777777778,
              "#fb9f3a"
             ],
             [
              0.8888888888888888,
              "#fdca26"
             ],
             [
              1,
              "#f0f921"
             ]
            ],
            "type": "histogram2dcontour"
           }
          ],
          "mesh3d": [
           {
            "colorbar": {
             "outlinewidth": 0,
             "ticks": ""
            },
            "type": "mesh3d"
           }
          ],
          "parcoords": [
           {
            "line": {
             "colorbar": {
              "outlinewidth": 0,
              "ticks": ""
             }
            },
            "type": "parcoords"
           }
          ],
          "pie": [
           {
            "automargin": true,
            "type": "pie"
           }
          ],
          "scatter": [
           {
            "fillpattern": {
             "fillmode": "overlay",
             "size": 10,
             "solidity": 0.2
            },
            "type": "scatter"
           }
          ],
          "scatter3d": [
           {
            "line": {
             "colorbar": {
              "outlinewidth": 0,
              "ticks": ""
             }
            },
            "marker": {
             "colorbar": {
              "outlinewidth": 0,
              "ticks": ""
             }
            },
            "type": "scatter3d"
           }
          ],
          "scattercarpet": [
           {
            "marker": {
             "colorbar": {
              "outlinewidth": 0,
              "ticks": ""
             }
            },
            "type": "scattercarpet"
           }
          ],
          "scattergeo": [
           {
            "marker": {
             "colorbar": {
              "outlinewidth": 0,
              "ticks": ""
             }
            },
            "type": "scattergeo"
           }
          ],
          "scattergl": [
           {
            "marker": {
             "colorbar": {
              "outlinewidth": 0,
              "ticks": ""
             }
            },
            "type": "scattergl"
           }
          ],
          "scattermapbox": [
           {
            "marker": {
             "colorbar": {
              "outlinewidth": 0,
              "ticks": ""
             }
            },
            "type": "scattermapbox"
           }
          ],
          "scatterpolar": [
           {
            "marker": {
             "colorbar": {
              "outlinewidth": 0,
              "ticks": ""
             }
            },
            "type": "scatterpolar"
           }
          ],
          "scatterpolargl": [
           {
            "marker": {
             "colorbar": {
              "outlinewidth": 0,
              "ticks": ""
             }
            },
            "type": "scatterpolargl"
           }
          ],
          "scatterternary": [
           {
            "marker": {
             "colorbar": {
              "outlinewidth": 0,
              "ticks": ""
             }
            },
            "type": "scatterternary"
           }
          ],
          "surface": [
           {
            "colorbar": {
             "outlinewidth": 0,
             "ticks": ""
            },
            "colorscale": [
             [
              0,
              "#0d0887"
             ],
             [
              0.1111111111111111,
              "#46039f"
             ],
             [
              0.2222222222222222,
              "#7201a8"
             ],
             [
              0.3333333333333333,
              "#9c179e"
             ],
             [
              0.4444444444444444,
              "#bd3786"
             ],
             [
              0.5555555555555556,
              "#d8576b"
             ],
             [
              0.6666666666666666,
              "#ed7953"
             ],
             [
              0.7777777777777778,
              "#fb9f3a"
             ],
             [
              0.8888888888888888,
              "#fdca26"
             ],
             [
              1,
              "#f0f921"
             ]
            ],
            "type": "surface"
           }
          ],
          "table": [
           {
            "cells": {
             "fill": {
              "color": "#EBF0F8"
             },
             "line": {
              "color": "white"
             }
            },
            "header": {
             "fill": {
              "color": "#C8D4E3"
             },
             "line": {
              "color": "white"
             }
            },
            "type": "table"
           }
          ]
         },
         "layout": {
          "annotationdefaults": {
           "arrowcolor": "#2a3f5f",
           "arrowhead": 0,
           "arrowwidth": 1
          },
          "autotypenumbers": "strict",
          "coloraxis": {
           "colorbar": {
            "outlinewidth": 0,
            "ticks": ""
           }
          },
          "colorscale": {
           "diverging": [
            [
             0,
             "#8e0152"
            ],
            [
             0.1,
             "#c51b7d"
            ],
            [
             0.2,
             "#de77ae"
            ],
            [
             0.3,
             "#f1b6da"
            ],
            [
             0.4,
             "#fde0ef"
            ],
            [
             0.5,
             "#f7f7f7"
            ],
            [
             0.6,
             "#e6f5d0"
            ],
            [
             0.7,
             "#b8e186"
            ],
            [
             0.8,
             "#7fbc41"
            ],
            [
             0.9,
             "#4d9221"
            ],
            [
             1,
             "#276419"
            ]
           ],
           "sequential": [
            [
             0,
             "#0d0887"
            ],
            [
             0.1111111111111111,
             "#46039f"
            ],
            [
             0.2222222222222222,
             "#7201a8"
            ],
            [
             0.3333333333333333,
             "#9c179e"
            ],
            [
             0.4444444444444444,
             "#bd3786"
            ],
            [
             0.5555555555555556,
             "#d8576b"
            ],
            [
             0.6666666666666666,
             "#ed7953"
            ],
            [
             0.7777777777777778,
             "#fb9f3a"
            ],
            [
             0.8888888888888888,
             "#fdca26"
            ],
            [
             1,
             "#f0f921"
            ]
           ],
           "sequentialminus": [
            [
             0,
             "#0d0887"
            ],
            [
             0.1111111111111111,
             "#46039f"
            ],
            [
             0.2222222222222222,
             "#7201a8"
            ],
            [
             0.3333333333333333,
             "#9c179e"
            ],
            [
             0.4444444444444444,
             "#bd3786"
            ],
            [
             0.5555555555555556,
             "#d8576b"
            ],
            [
             0.6666666666666666,
             "#ed7953"
            ],
            [
             0.7777777777777778,
             "#fb9f3a"
            ],
            [
             0.8888888888888888,
             "#fdca26"
            ],
            [
             1,
             "#f0f921"
            ]
           ]
          },
          "colorway": [
           "#636efa",
           "#EF553B",
           "#00cc96",
           "#ab63fa",
           "#FFA15A",
           "#19d3f3",
           "#FF6692",
           "#B6E880",
           "#FF97FF",
           "#FECB52"
          ],
          "font": {
           "color": "#2a3f5f"
          },
          "geo": {
           "bgcolor": "white",
           "lakecolor": "white",
           "landcolor": "#E5ECF6",
           "showlakes": true,
           "showland": true,
           "subunitcolor": "white"
          },
          "hoverlabel": {
           "align": "left"
          },
          "hovermode": "closest",
          "mapbox": {
           "style": "light"
          },
          "paper_bgcolor": "white",
          "plot_bgcolor": "#E5ECF6",
          "polar": {
           "angularaxis": {
            "gridcolor": "white",
            "linecolor": "white",
            "ticks": ""
           },
           "bgcolor": "#E5ECF6",
           "radialaxis": {
            "gridcolor": "white",
            "linecolor": "white",
            "ticks": ""
           }
          },
          "scene": {
           "xaxis": {
            "backgroundcolor": "#E5ECF6",
            "gridcolor": "white",
            "gridwidth": 2,
            "linecolor": "white",
            "showbackground": true,
            "ticks": "",
            "zerolinecolor": "white"
           },
           "yaxis": {
            "backgroundcolor": "#E5ECF6",
            "gridcolor": "white",
            "gridwidth": 2,
            "linecolor": "white",
            "showbackground": true,
            "ticks": "",
            "zerolinecolor": "white"
           },
           "zaxis": {
            "backgroundcolor": "#E5ECF6",
            "gridcolor": "white",
            "gridwidth": 2,
            "linecolor": "white",
            "showbackground": true,
            "ticks": "",
            "zerolinecolor": "white"
           }
          },
          "shapedefaults": {
           "line": {
            "color": "#2a3f5f"
           }
          },
          "ternary": {
           "aaxis": {
            "gridcolor": "white",
            "linecolor": "white",
            "ticks": ""
           },
           "baxis": {
            "gridcolor": "white",
            "linecolor": "white",
            "ticks": ""
           },
           "bgcolor": "#E5ECF6",
           "caxis": {
            "gridcolor": "white",
            "linecolor": "white",
            "ticks": ""
           }
          },
          "title": {
           "x": 0.05
          },
          "xaxis": {
           "automargin": true,
           "gridcolor": "white",
           "linecolor": "white",
           "ticks": "",
           "title": {
            "standoff": 15
           },
           "zerolinecolor": "white",
           "zerolinewidth": 2
          },
          "yaxis": {
           "automargin": true,
           "gridcolor": "white",
           "linecolor": "white",
           "ticks": "",
           "title": {
            "standoff": 15
           },
           "zerolinecolor": "white",
           "zerolinewidth": 2
          }
         }
        }
       }
      }
     },
     "metadata": {},
     "output_type": "display_data"
    }
   ],
   "source": [
    "df_counts = df['user'].groupby(['country', 'city']).size().reset_index(name='count')\n",
    "fig = px.treemap(df_counts, path=['country', 'city'], values='count')\n",
    "fig.show()"
   ]
  },
  {
   "cell_type": "markdown",
   "metadata": {},
   "source": [
    "Finalmemte puedo decir que este gráfico no me sirve para analizar con la profundidad que esperaba. Puedo decir que en el Reino Unido por ejemplo (exceptuando la localidad de March que cuenta con tres usuarios) encontramos un único usuario en cada localidad. Nos es valiosa esa información? Depende. Si pensamos que nuestros productos son conocidos a lo largo de los paises que lo conforman, podemos pensar que tenemos potenciales agentes de márketing en cada ciudad (usuarios). Por ejemplo: podríamos incentivar a nuestros usuarios ofreciéndoles un descuento en la próxima compra si traen un amigo que realice compras. Así multiplicaríamos usuarios rápidamente a un bajo costo de inversión. Pensando que tenemos usuarios en 50 ciuades de las 76 que componen el país, podríamos crecer en ventas rápidamente.  \n",
    "Por lo que he averiguado en Estados Unidos hay más de 19000 ciudades y contamos con usuarios únicamente en 150 de ellas. A pesar de ser nuestro mercado más grande, se encuentra más concentrado (algunas ciudades cuentan con 6 usuarios). Con respecto a este ejemplo, podríamos tal vez pensar otro tipo de estrategia para la captación de nuevos clientes, tal vez realizando acciones de publicidad gráfica en aquellas ciudades donde aún no hemos llegado.  \n",
    "Sería interesante ver cuánto han gastado cada uno de los países. Porque también puede haber muchos usuarios con transacciones de poco monto y tal vez no sea eso lo que nos interesa como empresa. Tal vez convenga buscar usuarios que gasten montos elevados y enfocar estrategias en ellos.\n"
   ]
  },
  {
   "cell_type": "markdown",
   "metadata": {},
   "source": [
    "### Exercici 6: \n",
    "Tres variables."
   ]
  },
  {
   "cell_type": "markdown",
   "metadata": {},
   "source": [
    "\n",
    "**Variables Seleccionadas:** `amount`, `estado_tarjeta` y `timestamp` de la tabla `transactions` y `estado_tarj`.\n",
    "\n",
    "**Justificación:** Combinar estas tres variables puede proporcionar una visión completa del comportamiento transaccional en función del tiempo y el estado de la tarjeta.\n",
    "\n",
    "**Tipo de Gráfico:** Gráfico de burbujas.\n",
    "\n",
    "**Interpretación:** El gráfico de burbujas mostrará el monto de las transacciones en función del tiempo y el estado de la tarjeta, permitiendo observar cómo estas variables interaccionan entre sí.\n"
   ]
  },
  {
   "cell_type": "code",
   "execution_count": 13,
   "metadata": {},
   "outputs": [
    {
     "ename": "NameError",
     "evalue": "name 'df_transactions' is not defined",
     "output_type": "error",
     "traceback": [
      "\u001b[1;31m---------------------------------------------------------------------------\u001b[0m",
      "\u001b[1;31mNameError\u001b[0m                                 Traceback (most recent call last)",
      "Cell \u001b[1;32mIn[13], line 1\u001b[0m\n\u001b[1;32m----> 1\u001b[0m df_merged \u001b[38;5;241m=\u001b[39m pd\u001b[38;5;241m.\u001b[39mmerge(\u001b[43mdf_transactions\u001b[49m, df_estado_tarj, left_on\u001b[38;5;241m=\u001b[39m\u001b[38;5;124m'\u001b[39m\u001b[38;5;124mcard_id\u001b[39m\u001b[38;5;124m'\u001b[39m, right_on\u001b[38;5;241m=\u001b[39m\u001b[38;5;124m'\u001b[39m\u001b[38;5;124mcard_id\u001b[39m\u001b[38;5;124m'\u001b[39m)\n\u001b[0;32m      2\u001b[0m df_merged[\u001b[38;5;124m'\u001b[39m\u001b[38;5;124mtimestamp\u001b[39m\u001b[38;5;124m'\u001b[39m] \u001b[38;5;241m=\u001b[39m pd\u001b[38;5;241m.\u001b[39mto_datetime(df_merged[\u001b[38;5;124m'\u001b[39m\u001b[38;5;124mtimestamp\u001b[39m\u001b[38;5;124m'\u001b[39m])\n\u001b[0;32m      4\u001b[0m plt\u001b[38;5;241m.\u001b[39mfigure(figsize\u001b[38;5;241m=\u001b[39m(\u001b[38;5;241m14\u001b[39m, \u001b[38;5;241m7\u001b[39m))\n",
      "\u001b[1;31mNameError\u001b[0m: name 'df_transactions' is not defined"
     ]
    }
   ],
   "source": [
    "df_merged = pd.merge(df_transactions, df_estado_tarj, left_on='card_id', right_on='card_id')\n",
    "df_merged['timestamp'] = pd.to_datetime(df_merged['timestamp'])\n",
    "\n",
    "plt.figure(figsize=(14, 7))\n",
    "plt.scatter(df_merged['timestamp'], df_merged['amount'], s=df_merged['amount'], c=df_merged['estado_tarjeta'].astype('category').cat.codes, alpha=0.6, cmap='viridis')\n",
    "plt.colorbar()\n",
    "plt.title('Monto de Transacciones a lo largo del Tiempo por Estado de Tarjeta')\n",
    "plt.xlabel('Tiempo')\n",
    "plt.ylabel('Monto de la Transacción')\n",
    "plt.grid(True)\n",
    "plt.show()"
   ]
  },
  {
   "cell_type": "markdown",
   "metadata": {},
   "source": [
    "\n",
    "### Exercici 7: \n",
    "Graficar un Pairplot."
   ]
  },
  {
   "cell_type": "markdown",
   "metadata": {},
   "source": [
    "\n",
    "**Variables Seleccionadas:** `amount`, `lat`, `longitude`, `timestamp` de la tabla `transactions`.\n",
    "\n",
    "**Justificación:** Estas variables proporcionan un conjunto completo de datos numéricos y temporales, permitiendo una exploración completa de las relaciones entre estas variables.\n",
    "\n",
    "**Tipo de Gráfico:** Pairplot (gráfico de pares).\n",
    "\n",
    "**Interpretación:** El pairplot mostrará todas las relaciones posibles entre estas variables numéricas, ayudando a identificar correlaciones y patrones entre las variables transaccionales.\n",
    "\n",
    "Estas elecciones de variables y gráficos permitirán una exploración detallada y variada de los datos disponibles en tu modelo MySQL, proporcionando insights valiosos sobre diferentes aspectos de las transacciones y los usuarios."
   ]
  },
  {
   "cell_type": "code",
   "execution_count": null,
   "metadata": {},
   "outputs": [],
   "source": [
    "import pandas as pd\n",
    "import seaborn as sns\n",
    "import matplotlib.pyplot as plt\n",
    "\n",
    "df_transactions['timestamp'] = pd.to_datetime(df_transactions['timestamp'])\n",
    "df_transactions['timestamp'] = df_transactions['timestamp'].astype('int64') // 10**9  # Convertir timestamp a segundos\n",
    "\n",
    "sns.pairplot(df_transactions[['amount', 'lat', 'longitude', 'timestamp']])\n",
    "plt.suptitle('Pairplot de Variables Transaccionales', y=1.02)\n",
    "plt.show()"
   ]
  }
 ],
 "metadata": {
  "kernelspec": {
   "display_name": "Python 3",
   "language": "python",
   "name": "python3"
  },
  "language_info": {
   "codemirror_mode": {
    "name": "ipython",
    "version": 3
   },
   "file_extension": ".py",
   "mimetype": "text/x-python",
   "name": "python",
   "nbconvert_exporter": "python",
   "pygments_lexer": "ipython3",
   "version": "3.12.3"
  }
 },
 "nbformat": 4,
 "nbformat_minor": 2
}
